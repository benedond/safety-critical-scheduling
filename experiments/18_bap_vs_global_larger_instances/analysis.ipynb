{
 "cells": [
  {
   "cell_type": "markdown",
   "id": "10575484",
   "metadata": {},
   "source": [
    "# Analysis of the results"
   ]
  },
  {
   "cell_type": "code",
   "execution_count": 9,
   "id": "f3e8b5e5",
   "metadata": {},
   "outputs": [],
   "source": [
    "import json\n",
    "import pandas as pd\n",
    "pd.set_option('display.max_columns', None)  # or 1000\n",
    "pd.set_option('display.max_rows', None)  # or 1000"
   ]
  },
  {
   "cell_type": "code",
   "execution_count": 10,
   "id": "a2246705",
   "metadata": {},
   "outputs": [],
   "source": [
    "dfs = {}\n",
    "for i in [\"05\", \"10\", \"15\"]:\n",
    "    df = pd.read_csv(\"stats-{:s}.csv\".format(i))\n",
    "    df[\"instance_name\"] = df.apply(lambda row: row[\"instance\"].split(\".\")[0], axis=1)\n",
    "    df[\"solver\"] = df.apply(lambda row: row[\"instance\"].split(\".\")[1][5:], axis=1)    \n",
    "    \n",
    "    bap_task = df[df[\"solver\"] == \"bap_task\"]            \n",
    "    bap_pair = df[df[\"solver\"] == \"bap_pair\"]            \n",
    "    ilp = df[df[\"solver\"] == \"global\"]\n",
    "    \n",
    "    bap_task = bap_task.add_suffix('_bap-task')\n",
    "    bap_task = bap_task.rename(index=str, columns={'instance_name_bap-task':'instance_name'})\n",
    "    bap_pair = bap_pair.add_suffix('_bap-pair')\n",
    "    bap_pair = bap_pair.rename(index=str, columns={'instance_name_bap-pair':'instance_name'})\n",
    "    ilp = ilp.add_suffix('_ilp')\n",
    "    ilp = ilp.rename(index=str, columns={'instance_name_ilp':'instance_name'})\n",
    "\n",
    "    \n",
    "    # merge all three together\n",
    "    df = pd.merge(ilp, bap_task, on=\"instance_name\")\n",
    "    df = pd.merge(df, bap_pair, on=\"instance_name\")\n",
    "    \n",
    "    dfs[i] = df"
   ]
  },
  {
   "cell_type": "code",
   "execution_count": 11,
   "id": "7b9fd633",
   "metadata": {},
   "outputs": [
    {
     "name": "stdout",
     "output_type": "stream",
     "text": [
      "BAP method: bap-task\n",
      "\n",
      "05\n",
      "Overall performance:\n",
      "time ilp $0.03 \\pm 0.02$\n",
      "time bap-task $0.16 \\pm 0.20$\n",
      " - ilp was faster 96 times\n",
      "   time ilp $0.02 \\pm 0.02$\n",
      "   time bap-task $0.16 \\pm 0.21$\n",
      "   bap nodes avg 3.5416666666666665 min 0 max 24\n",
      " - bap was faster 4 times\n",
      "   time ilp $0.07 \\pm 0.02$\n",
      "   time bap-task $0.05 \\pm 0.02$\n",
      "   bap nodes avg 1.0 min 1 max 1\n",
      "\n",
      "10\n",
      "Overall performance:\n",
      "time ilp $0.20 \\pm 0.11$\n",
      "time bap-task $3.58 \\pm 7.41$\n",
      " - ilp was faster 94 times\n",
      "   time ilp $0.19 \\pm 0.10$\n",
      "   time bap-task $3.79 \\pm 7.60$\n",
      "   bap nodes avg 15.904255319148936 min 0 max 214\n",
      " - bap was faster 6 times\n",
      "   time ilp $0.38 \\pm 0.21$\n",
      "   time bap-task $0.30 \\pm 0.20$\n",
      "   bap nodes avg 0.8333333333333334 min 0 max 1\n",
      "\n",
      "15\n",
      "Overall performance:\n",
      "time ilp $0.95 \\pm 1.12$\n",
      "time bap-task $24.32 \\pm 34.45$\n",
      " - ilp was faster 97 times\n",
      "   time ilp $0.83 \\pm 0.70$\n",
      "   time bap-task $25.03 \\pm 34.73$\n",
      "   bap nodes avg 57.95876288659794 min 1 max 311\n",
      " - bap was faster 3 times\n",
      "   time ilp $4.99 \\pm 3.65$\n",
      "   time bap-task $1.31 \\pm 0.67$\n",
      "   bap nodes avg 1.0 min 1 max 1\n"
     ]
    }
   ],
   "source": [
    "bap_method = \"bap-task\"\n",
    "print(\"BAP method:\", bap_method)\n",
    "\n",
    "for size in [\"05\", \"10\", \"15\"]:\n",
    "    print()\n",
    "    print(size)\n",
    "    \n",
    "    df = dfs[size]\n",
    "    \n",
    "    print(\"Overall performance:\")\n",
    "    for method in [\"ilp\", bap_method]:\n",
    "        avg = df[\"time_\" + method].mean() / 1000 # to s\n",
    "        std = df[\"time_\" + method].std() / 1000\n",
    "        avg_nodes = df[\"metadata_\" + bap_method]\n",
    "        print(\"time {:s} ${:4.2f} \\pm {:4.2f}$\".format(method, avg, std))    \n",
    "                    \n",
    "    # ILP was faster\n",
    "    df_cur = df[df[\"time_ilp\"] < df[\"time_\" + bap_method]]\n",
    "    print(\" - ilp was faster {:d} times\".format(df_cur[\"instance_name\"].count()))                \n",
    "    for method in [\"ilp\", bap_method]:\n",
    "        avg = df_cur[\"time_\" + method].mean() / 1000\n",
    "        std = df_cur[\"time_\" + method].std() / 1000\n",
    "        print(\"   time {:s} ${:4.2f} \\\\pm {:4.2f}$\".format(method, avg, std))    \n",
    "    bap_nodes_avg = df_cur[\"metadata_\" + bap_method].apply(lambda row: int(json.loads(row)[\"number_of_nodes\"])).mean()\n",
    "    bap_nodes_min = df_cur[\"metadata_\" + bap_method].apply(lambda row: int(json.loads(row)[\"number_of_nodes\"])).min()\n",
    "    bap_nodes_max = df_cur[\"metadata_\" + bap_method].apply(lambda row: int(json.loads(row)[\"number_of_nodes\"])).max()\n",
    "    print(\"   bap nodes avg\", bap_nodes_avg, \"min\", bap_nodes_min, \"max\", bap_nodes_max)\n",
    "        \n",
    "    \n",
    "    df_cur = df[df[\"time_ilp\"] > df[\"time_\" + bap_method]]\n",
    "    print(\" - bap was faster {:d} times\".format(df_cur[\"instance_name\"].count()))    \n",
    "    for method in [\"ilp\", bap_method]:\n",
    "        avg = df_cur[\"time_\" + method].mean() / 1000\n",
    "        std = df_cur[\"time_\" + method].std() / 1000\n",
    "        print(\"   time {:s} ${:4.2f} \\\\pm {:4.2f}$\".format(method, avg, std))    \n",
    "    bap_nodes_avg = df_cur[\"metadata_\" + bap_method].apply(lambda row: int(json.loads(row)[\"number_of_nodes\"])).mean()\n",
    "    bap_nodes_min = df_cur[\"metadata_\" + bap_method].apply(lambda row: int(json.loads(row)[\"number_of_nodes\"])).min()\n",
    "    bap_nodes_max = df_cur[\"metadata_\" + bap_method].apply(lambda row: int(json.loads(row)[\"number_of_nodes\"])).max()\n",
    "    print(\"   bap nodes avg\", bap_nodes_avg, \"min\", bap_nodes_min, \"max\", bap_nodes_max)"
   ]
  },
  {
   "cell_type": "code",
   "execution_count": 12,
   "id": "7f60a65e",
   "metadata": {},
   "outputs": [
    {
     "name": "stdout",
     "output_type": "stream",
     "text": [
      "number of timeouts on 15-tasks instances:\n",
      "ILP 0\n",
      "BAP-pair 3\n",
      "BAP-task 0\n"
     ]
    }
   ],
   "source": [
    "df = dfs[\"15\"]\n",
    "print(\"number of timeouts on 15-tasks instances:\")\n",
    "print(\"ILP\", df[df[\"time_ilp\"] > 600000][\"instance_name\"].count())\n",
    "print(\"BAP-pair\", df[df[\"time_bap-pair\"] > 600000][\"instance_name\"].count())\n",
    "print(\"BAP-task\", df[df[\"time_bap-task\"] > 600000][\"instance_name\"].count())"
   ]
  },
  {
   "cell_type": "code",
   "execution_count": 13,
   "id": "84d4469e",
   "metadata": {},
   "outputs": [
    {
     "name": "stdout",
     "output_type": "stream",
     "text": [
      "ILP slower than bap 5\n"
     ]
    }
   ],
   "source": [
    "print(\"ILP slower than bap\", df[df[\"time_ilp\"] > df[\"time_bap-pair\"]][\"instance_name\"].count())"
   ]
  },
  {
   "cell_type": "code",
   "execution_count": 14,
   "id": "7cd636b0",
   "metadata": {},
   "outputs": [
    {
     "name": "stdout",
     "output_type": "stream",
     "text": [
      "\n",
      "05\n",
      "   time_masters_init 3.17\n",
      "   time_masters_solving 0.43\n",
      "   time_sub_init 20.0\n",
      "   time_sub_solving 40.4\n",
      "   time_global 0.8\n",
      "   time_recovery 31.77\n",
      "\n",
      "10\n",
      "   time_masters_init 3.01\n",
      "   time_masters_solving 0.71\n",
      "   time_sub_init 11.19\n",
      "   time_sub_solving 72.18\n",
      "   time_global 1.14\n",
      "   time_recovery 7.93\n",
      "\n",
      "15\n",
      "   time_masters_init 2.88\n",
      "   time_masters_solving 0.8\n",
      "   time_sub_init 8.71\n",
      "   time_sub_solving 76.41\n",
      "   time_global 2.61\n",
      "   time_recovery 5.35\n"
     ]
    }
   ],
   "source": [
    "bap_method = \"bap-task\"\n",
    "# Time spent in BAP:\n",
    "for size in [\"05\", \"10\", \"15\"]:\n",
    "    print()\n",
    "    print(size)\n",
    "    \n",
    "    df = dfs[size]    \n",
    "    time_masters_init = df[[\"metadata_\" + bap_method,\"time_\" + bap_method]].apply(lambda row: 1000*float(json.loads(row[\"metadata_\" + bap_method])[\"time_masters_init\"]) / row[\"time_\" + bap_method], axis=1).mean()\n",
    "    time_masters_solving = df[[\"metadata_\" + bap_method,\"time_\" + bap_method]].apply(lambda row: 1000*float(json.loads(row[\"metadata_\" + bap_method])[\"time_masters_solving\"]) / row[\"time_\" + bap_method], axis=1).mean()\n",
    "    time_sub_init = df[[\"metadata_\" + bap_method,\"time_\" + bap_method]].apply(lambda row: 1000*float(json.loads(row[\"metadata_\" + bap_method])[\"time_sub_init\"]) / row[\"time_\" + bap_method], axis=1).mean()\n",
    "    time_sub_solving = df[[\"metadata_\" + bap_method,\"time_\" + bap_method]].apply(lambda row: 1000*float(json.loads(row[\"metadata_\" + bap_method])[\"time_sub_solving\"]) / row[\"time_\" + bap_method], axis=1).mean()\n",
    "    time_global = df[[\"metadata_\" + bap_method,\"time_\" + bap_method]].apply(lambda row: 1000*float(json.loads(row[\"metadata_\" + bap_method])[\"time_global\"]) / row[\"time_\" + bap_method], axis=1).mean()\n",
    "    time_recovery = df[[\"metadata_\" + bap_method,\"time_\" + bap_method]].apply(lambda row: 1000*float(json.loads(row[\"metadata_\" + bap_method])[\"time_recovery\"]) / row[\"time_\" + bap_method], axis=1).mean()\n",
    "        \n",
    "    print(\"   time_masters_init\", round(100*time_masters_init, 2))\n",
    "    print(\"   time_masters_solving\", round(100*time_masters_solving,2))\n",
    "    print(\"   time_sub_init\", round(100*time_sub_init,2))\n",
    "    print(\"   time_sub_solving\", round(100*time_sub_solving,2))\n",
    "    print(\"   time_global\", round(100*time_global,2))\n",
    "    print(\"   time_recovery\", round(100*time_recovery,2))    \n",
    "        "
   ]
  },
  {
   "cell_type": "code",
   "execution_count": 7,
   "id": "20463cbf",
   "metadata": {},
   "outputs": [
    {
     "data": {
      "text/plain": [
       "Series([], Name: instance_name, dtype: object)"
      ]
     },
     "execution_count": 7,
     "metadata": {},
     "output_type": "execute_result"
    }
   ],
   "source": [
    "df = dfs[\"15\"]\n",
    "df[df[\"time_bap-task\"] > 600000][\"instance_name\"]"
   ]
  },
  {
   "cell_type": "code",
   "execution_count": 8,
   "id": "5c4419bd",
   "metadata": {},
   "outputs": [
    {
     "name": "stdout",
     "output_type": "stream",
     "text": [
      "['{\"objective\": \"0.7552394869288354\", \"number_of_nodes\": \"31\", \"time_masters_init\": \"0.25\", \"time_masters_solving\": \"0.07\", \"time_sub_init\": \"0.62\", \"time_sub_solving\": \"6.88\", \"time_global\": \"0.59\", \"time_get_pair\": \"0.00\", \"time_recovery\": \"0.43\", \"master_relaxation\": \"0.752333\", \"patterns_generated_avg\": \"6.58\", \"optimal\": \"True\"}']\n"
     ]
    }
   ],
   "source": [
    "print(df[df[\"instance_name\"] == \"IN_079\"][\"metadata_bap-task\"].values)"
   ]
  },
  {
   "cell_type": "code",
   "execution_count": null,
   "id": "1b8e48d2",
   "metadata": {},
   "outputs": [],
   "source": []
  }
 ],
 "metadata": {
  "kernelspec": {
   "display_name": "Python 3",
   "language": "python",
   "name": "python3"
  },
  "language_info": {
   "codemirror_mode": {
    "name": "ipython",
    "version": 3
   },
   "file_extension": ".py",
   "mimetype": "text/x-python",
   "name": "python",
   "nbconvert_exporter": "python",
   "pygments_lexer": "ipython3",
   "version": "3.8.10"
  }
 },
 "nbformat": 4,
 "nbformat_minor": 5
}
