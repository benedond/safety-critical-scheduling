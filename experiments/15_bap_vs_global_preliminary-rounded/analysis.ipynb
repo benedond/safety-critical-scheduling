{
 "cells": [
  {
   "cell_type": "markdown",
   "id": "10575484",
   "metadata": {},
   "source": [
    "# Analysis of the results"
   ]
  },
  {
   "cell_type": "code",
   "execution_count": 4,
   "id": "f3e8b5e5",
   "metadata": {},
   "outputs": [],
   "source": [
    "import json\n",
    "import pandas as pd\n",
    "pd.set_option('display.max_columns', None)  # or 1000\n",
    "pd.set_option('display.max_rows', None)  # or 1000"
   ]
  },
  {
   "cell_type": "code",
   "execution_count": 5,
   "id": "a2246705",
   "metadata": {},
   "outputs": [],
   "source": [
    "dfs = {}\n",
    "for i in [\"05\", \"10\", \"15\"]:\n",
    "    df = pd.read_csv(\"stats-{:s}.csv\".format(i))\n",
    "    df[\"instance\"] = df.apply(lambda row: row[\"instance\"].split(\".\")[0], axis=1)\n",
    "    # rename ILP\n",
    "    df[\"solver\"] = df.apply(lambda row: \"ILP\" if row[\"solver\"] == \"ILP Solver (global):predictor (Python)\" else row[\"solver\"], axis=1)\n",
    "    # merge to separate columns by instance\n",
    "    bap = df[df[\"solver\"] == \"BAP\"]            \n",
    "    ilp = df[df[\"solver\"] == \"ILP\"]\n",
    "    df = pd.merge(bap, ilp, on=\"instance\",suffixes=[\"_bap\", \"_ilp\"])\n",
    "    \n",
    "    dfs[i] = df"
   ]
  },
  {
   "cell_type": "code",
   "execution_count": 6,
   "id": "7b9fd633",
   "metadata": {},
   "outputs": [
    {
     "name": "stdout",
     "output_type": "stream",
     "text": [
      "\n",
      "05\n",
      "Overall performance:\n",
      "time ilp $0.03 \\pm 0.04$\n",
      "time bap $0.14 \\pm 0.21$\n",
      " - ilp was faster 80 times\n",
      "   time ilp $0.02 \\pm 0.02$\n",
      "   time bap $0.16 \\pm 0.23$\n",
      "   bap nodes avg 3.5625 min 0 max 43\n",
      " - bap was faster 19 times\n",
      "   time ilp $0.09 \\pm 0.04$\n",
      "   time bap $0.06 \\pm 0.03$\n",
      "   bap nodes avg 0.8947368421052632 min 0 max 1\n",
      "\n",
      "10\n",
      "Overall performance:\n",
      "time ilp $1.79 \\pm 4.70$\n",
      "time bap $3.21 \\pm 7.00$\n",
      " - ilp was faster 67 times\n",
      "   time ilp $0.37 \\pm 0.50$\n",
      "   time bap $4.30 \\pm 8.26$\n",
      "   bap nodes avg 23.597014925373134 min 0 max 308\n",
      " - bap was faster 32 times\n",
      "   time ilp $4.77 \\pm 7.47$\n",
      "   time bap $0.94 \\pm 1.28$\n",
      "   bap nodes avg 5.6875 min 1 max 74\n",
      "\n",
      "15\n",
      "Overall performance:\n",
      "time ilp $45.37 \\pm 113.48$\n",
      "time bap $59.26 \\pm 127.41$\n",
      " - ilp was faster 60 times\n",
      "   time ilp $4.57 \\pm 8.02$\n",
      "   time bap $94.22 \\pm 155.11$\n",
      "   bap nodes avg 397.81666666666666 min 1 max 3254\n",
      " - bap was faster 40 times\n",
      "   time ilp $106.57 \\pm 161.82$\n",
      "   time bap $6.82 \\pm 10.51$\n",
      "   bap nodes avg 22.975 min 1 max 300\n"
     ]
    }
   ],
   "source": [
    "for size in [\"05\", \"10\", \"15\"]:\n",
    "    print()\n",
    "    print(size)\n",
    "    \n",
    "    df = dfs[size]\n",
    "    \n",
    "    print(\"Overall performance:\")\n",
    "    for method in [\"ilp\", \"bap\"]:\n",
    "        avg = df[\"time_\" + method].mean() / 1000 # to s\n",
    "        std = df[\"time_\" + method].std() / 1000\n",
    "        avg_nodes = df[\"metadata_bap\"]\n",
    "        print(\"time {:s} ${:4.2f} \\pm {:4.2f}$\".format(method, avg, std))    \n",
    "                    \n",
    "    # ILP was faster\n",
    "    df_cur = df[df[\"time_ilp\"] < df[\"time_bap\"]]\n",
    "    print(\" - ilp was faster {:d} times\".format(df_cur[\"instance\"].count()))                \n",
    "    for method in [\"ilp\", \"bap\"]:\n",
    "        avg = df_cur[\"time_\" + method].mean() / 1000\n",
    "        std = df_cur[\"time_\" + method].std() / 1000\n",
    "        print(\"   time {:s} ${:4.2f} \\\\pm {:4.2f}$\".format(method, avg, std))    \n",
    "    bap_nodes_avg = df_cur[\"metadata_bap\"].apply(lambda row: int(json.loads(row)[\"number_of_nodes\"])).mean()\n",
    "    bap_nodes_min = df_cur[\"metadata_bap\"].apply(lambda row: int(json.loads(row)[\"number_of_nodes\"])).min()\n",
    "    bap_nodes_max = df_cur[\"metadata_bap\"].apply(lambda row: int(json.loads(row)[\"number_of_nodes\"])).max()\n",
    "    print(\"   bap nodes avg\", bap_nodes_avg, \"min\", bap_nodes_min, \"max\", bap_nodes_max)\n",
    "        \n",
    "    \n",
    "    df_cur = df[df[\"time_ilp\"] > df[\"time_bap\"]]\n",
    "    print(\" - bap was faster {:d} times\".format(df_cur[\"instance\"].count()))    \n",
    "    for method in [\"ilp\", \"bap\"]:\n",
    "        avg = df_cur[\"time_\" + method].mean() / 1000\n",
    "        std = df_cur[\"time_\" + method].std() / 1000\n",
    "        print(\"   time {:s} ${:4.2f} \\\\pm {:4.2f}$\".format(method, avg, std))    \n",
    "    bap_nodes_avg = df_cur[\"metadata_bap\"].apply(lambda row: int(json.loads(row)[\"number_of_nodes\"])).mean()\n",
    "    bap_nodes_min = df_cur[\"metadata_bap\"].apply(lambda row: int(json.loads(row)[\"number_of_nodes\"])).min()\n",
    "    bap_nodes_max = df_cur[\"metadata_bap\"].apply(lambda row: int(json.loads(row)[\"number_of_nodes\"])).max()\n",
    "    print(\"   bap nodes avg\", bap_nodes_avg, \"min\", bap_nodes_min, \"max\", bap_nodes_max)"
   ]
  },
  {
   "cell_type": "code",
   "execution_count": null,
   "id": "57a44c87",
   "metadata": {},
   "outputs": [],
   "source": []
  }
 ],
 "metadata": {
  "kernelspec": {
   "display_name": "Python 3",
   "language": "python",
   "name": "python3"
  },
  "language_info": {
   "codemirror_mode": {
    "name": "ipython",
    "version": 3
   },
   "file_extension": ".py",
   "mimetype": "text/x-python",
   "name": "python",
   "nbconvert_exporter": "python",
   "pygments_lexer": "ipython3",
   "version": "3.8.10"
  }
 },
 "nbformat": 4,
 "nbformat_minor": 5
}
